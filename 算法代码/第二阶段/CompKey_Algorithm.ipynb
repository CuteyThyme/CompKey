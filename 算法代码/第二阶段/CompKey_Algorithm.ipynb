{
 "cells": [
  {
   "cell_type": "markdown",
   "metadata": {},
   "source": [
    "## CompKey竞争性关键词推荐算法设计与实现"
   ]
  },
  {
   "cell_type": "markdown",
   "metadata": {},
   "source": [
    "阶段一中，我们得到了十个种子关键词： **图片 手机 小说 视频 下载 qq 电影 百度 英语 游戏**  \n",
    "将与种子关键词有关的搜索数据保存在了文件\"seedwords_query.train\"中  \n",
    "在这一阶段，我们主要目标是利用竞争性Comp测度的概率模型，确定竞争性关键字并计算输出竞争度  \n",
    "\n",
    "算法流程如下：\n",
    "- 用基于第一阶段的数据获取与种子关键字相关的中介关键字\n",
    "- 统计出所有包含种子关键字和中介关键字的查询搜索量\n",
    "- 计算所有中介关键字的权重\n",
    "- 确定竞争性关键字集合\n",
    "- 计算所有竞争关键字的竞争度\n",
    "- 竞争关键字排序输出"
   ]
  },
  {
   "cell_type": "markdown",
   "metadata": {},
   "source": [
    "### 1. 获取中介关键词"
   ]
  },
  {
   "cell_type": "markdown",
   "metadata": {},
   "source": [
    "为了后续便于对每个种子关键词进行Comp测度计算，提高算法的性能，将和这十个种子关键词有关的搜索数据分别存在对应的文件下"
   ]
  },
  {
   "cell_type": "code",
   "execution_count": 191,
   "metadata": {},
   "outputs": [],
   "source": [
    "def seedwords_file(seedword,filename):\n",
    "    query_data = open('./seedwords_query.train','r',encoding='utf-8')\n",
    "    result_data = open(filename,'w',encoding='utf-8')\n",
    "    for line in query_data:\n",
    "        if seedword in line:\n",
    "            result_data.write(line)\n",
    "    query_data.close()\n",
    "    result_data.close()"
   ]
  },
  {
   "cell_type": "code",
   "execution_count": 192,
   "metadata": {},
   "outputs": [],
   "source": [
    "seedwords_list=['图片','手机','小说','视频','下载','qq','电影','百度','英语','游戏']\n",
    "for seedword in seedwords_list:\n",
    "    filename = './seedword_'+seedword\n",
    "    seedwords_file(seedword,filename)"
   ]
  },
  {
   "cell_type": "markdown",
   "metadata": {},
   "source": [
    "得到十个种子关键词对应的搜索数据文件，分别对其进行分词、词频统计，找出每个种子关键词的8个中介关键词"
   ]
  },
  {
   "cell_type": "markdown",
   "metadata": {},
   "source": [
    "##### jieba分词"
   ]
  },
  {
   "cell_type": "code",
   "execution_count": 193,
   "metadata": {},
   "outputs": [],
   "source": [
    "# 对十个种子关键词搜索数据文件进行分词,并存储\n",
    "import jieba\n",
    "def seedwords_segmentation(seedword):\n",
    "    seedwords_file = './seedword_'+seedword\n",
    "    segmentation_file = './seedword_segmentation_'+seedword\n",
    "    seedwords_data = open(seedwords_file,'r',encoding='utf-8')\n",
    "    segmentation_data = open(segmentation_file,'w',encoding='utf-8')\n",
    "    for sentence in seedwords_data:\n",
    "        sentence = sentence[:-1]\n",
    "        word_seg = jieba.cut(sentence)\n",
    "        line_string = '\\t'.join(word_seg)+'\\n'\n",
    "        segmentation_data.write(line_string)\n",
    "    seedwords_data.close()\n",
    "    segmentation_data.close()"
   ]
  },
  {
   "cell_type": "code",
   "execution_count": 194,
   "metadata": {},
   "outputs": [],
   "source": [
    "for seedword in seedwords_list:\n",
    "    seedwords_segmentation(seedword)"
   ]
  },
  {
   "cell_type": "markdown",
   "metadata": {},
   "source": [
    "##### 词频统计\n",
    "在词频统计前先进行停用词过滤，去除无意义的词，以免对结果产生干扰  \n",
    "在输出的前12个高频词中再根据语义和实际意义进一步筛选中介关键词"
   ]
  },
  {
   "cell_type": "code",
   "execution_count": 212,
   "metadata": {},
   "outputs": [],
   "source": [
    "from collections import Counter\n",
    "\n",
    "#停用词过滤\n",
    "stop_word_list=set([' ','的','怎么','我','都','与','你','多少','年','月','什么','及',\n",
    "                    '和','上','如何','是','吗','有','在','可以','什么','用','了','说',\n",
    "                    '大','很','版','之','为什么','怎么办','能','玩','级','写',','])\n",
    "def stop_words_filter(word_list):\n",
    "    word_cleaned = []\n",
    "    for word in word_list:\n",
    "        if word not in stop_word_list:\n",
    "            word_cleaned.append(word)\n",
    "    return word_cleaned\n",
    "\n",
    "def getwordlist(seedword):\n",
    "    wordlist = [];\n",
    "    segmentation_file = './seedword_segmentation_'+seedword\n",
    "    seedwords_data = open(segmentation_file,'r',encoding='utf-8')\n",
    "    for line in seedwords_data:\n",
    "        line = line[:-1]\n",
    "        words = line.split('\\t')\n",
    "        wordlist.extend(words)\n",
    "    seedwords_data.close()\n",
    "    return wordlist\n",
    "\n",
    "# 统计与种子关键词一起出现的词的词频\n",
    "# 在词频前12中剔除词频最高的种子关键词，先放入候选中介关键词集合中 \n",
    "def word_frequency_count(seedword):\n",
    "    word_list = getwordlist(seedword)\n",
    "    word_list = stop_words_filter(word_list)\n",
    "    count_result = Counter(word_list)\n",
    "    midkeywords=[]\n",
    "    flag = False\n",
    "    for key, val in count_result.most_common(12):\n",
    "        #词频最高的一定是种子关键词，不放入midkeywords中\n",
    "        if flag==True:\n",
    "            midkeywords.append(key)\n",
    "        flag=True\n",
    "    return midkeywords"
   ]
  },
  {
   "cell_type": "code",
   "execution_count": 258,
   "metadata": {},
   "outputs": [
    {
     "data": {
      "text/plain": [
       "[['大全', '发型', '唯美', '报价', '价格', '搞笑', '2016', '手机', 'qq', '动漫', '背景图片'],\n",
       " ['下载', 'qq', '苹果', '软件', '手机号', '华为', '手机游戏', '设置', '壁纸', '视频', '小米'],\n",
       " ['穿越', '好看', '类似', '排行榜', '耽美', '阅读', '重生', '主角', '下载', '小说网', '倾城'],\n",
       " ['教学', '在线', '观看', '大全', '手机', '腾讯', '在线视频', '搞笑', '舞蹈', '下载', '视频教程'],\n",
       " ['txt', '手机', '全集', '软件', '免费', '游戏', '小说', '百度', '官方', '视频', 'qq'],\n",
       " ['手机', '头像', '空间', '号', '飞车', '邮箱', '音乐', '网名', '下载', '好友', '群'],\n",
       " ['韩国', '电影网', '完整版', '观看', '全集', '在线', '手机', '大全', '电影院', '好看', '微微一笑'],\n",
       " ['云', '吧', '资源', '贴', '下载', '百科', '分享', '云盘', '地图', '翻译', '链接'],\n",
       " ['上册', '作文', '答案', '英语单词', '大学', '四级', '英语翻译', '翻译', '2016', '教程', '3'],\n",
       " ['下载', '手机游戏', '手机', '大全', '小游戏', '单机游戏', '玩游戏', '好玩', '名字', '橙光', '电脑']]"
      ]
     },
     "execution_count": 258,
     "metadata": {},
     "output_type": "execute_result"
    }
   ],
   "source": [
    "# 得到种子关键词的候选中介关键词集合\n",
    "midkeywords_list = []\n",
    "for seedword in seedwords_list:\n",
    "    midkeywords_list.append(word_frequency_count(seedword))\n",
    "midkeywords_list"
   ]
  },
  {
   "cell_type": "markdown",
   "metadata": {},
   "source": [
    "打印出的最高词频一定是种子关键词，因而在统计词频这一步中，我们可以计算出种子关键词的搜索量$|\\{s\\}|$,将其存在字典s_query_volume中"
   ]
  },
  {
   "cell_type": "code",
   "execution_count": 259,
   "metadata": {},
   "outputs": [],
   "source": [
    "def seedword_query_volume(seedword):\n",
    "    word_list = getwordlist(seedword)\n",
    "    count_result = Counter(word_list)\n",
    "    for key, val in count_result.most_common(1):\n",
    "         return val\n",
    "\n",
    "s_query_volume = {}\n",
    "for seedword in seedwords_list:\n",
    "    s_query_volume[seedword] = seedword_query_volume(seedword)"
   ]
  },
  {
   "cell_type": "markdown",
   "metadata": {},
   "source": [
    "##### 基于语义的中介关键词筛选\n",
    "因为Jieba分词的语义性不能保证是准确无误的，为了提高算法的精确度，这里我们根据实际意义在词频前12的候选中介关键词中筛选出8个中介关键词  \n",
    "比如与种子关键词“百度”一同出现的高频词中有“吧”、“贴”，根据实际意义，我们将“贴吧”作为“百度”的中介关键词  \n",
    "为了防止$Comp$计算公式中分母为0，我们将一些中介词进行调整得语义范围更大一些"
   ]
  },
  {
   "cell_type": "code",
   "execution_count": 260,
   "metadata": {},
   "outputs": [],
   "source": [
    "# 处理候选的中介关键词集合，筛选中介关键词\n",
    "\n",
    "# 种子关键词“图片”的中介关键词筛选\n",
    "del midkeywords_list[0][-2:]\n",
    "midkeywords_list[0].remove('报价')\n",
    "\n",
    "# 种子关键词“手机”的中介关键词筛选\n",
    "del midkeywords_list[1][-2:]\n",
    "midkeywords_list[1].remove('手机号')\n",
    "midkeywords_list[1][5]='游戏'\n",
    "\n",
    "# 种子关键词“小说”的中介关键词筛选\n",
    "del midkeywords_list[2][-2:]\n",
    "midkeywords_list[2].remove('类似')\n",
    "\n",
    "# 种子关键词“视频”的中介关键词筛选\n",
    "del midkeywords_list[3][-2:]\n",
    "midkeywords_list[3].remove('在线视频')\n",
    "\n",
    "# 种子关键词“下载”的中介关键词筛选\n",
    "del midkeywords_list[4][-3:]\n",
    "\n",
    "# 种子关键词“qq”的中介关键词筛选\n",
    "del midkeywords_list[5][-3:]\n",
    "\n",
    "# 种子关键词“电影”的中介关键词筛选\n",
    "del midkeywords_list[6][-3:]\n",
    "midkeywords_list[6][1]='网'\n",
    "\n",
    "# 种子关键词“百度”的中介关键词筛选\n",
    "del midkeywords_list[7][-2:]\n",
    "midkeywords_list[7].remove('贴')\n",
    "midkeywords_list[7].remove('吧')\n",
    "midkeywords_list[7].insert(1,'贴吧')\n",
    "\n",
    "# 种子关键词“英语”的中介关键词筛选\n",
    "midkeywords_list[8].remove('英语翻译')\n",
    "midkeywords_list[8][3]='单词'\n",
    "midkeywords_list[8].remove('2016')\n",
    "midkeywords_list[8].remove('3')\n",
    "\n",
    "# 种子关键词“游戏”的中介关键词筛选\n",
    "midkeywords_list[9].remove('手机游戏')\n",
    "midkeywords_list[9].remove('小游戏')\n",
    "midkeywords_list[9].remove('玩游戏')\n",
    "midkeywords_list[9][3]='单机'"
   ]
  },
  {
   "cell_type": "code",
   "execution_count": 261,
   "metadata": {},
   "outputs": [
    {
     "data": {
      "text/plain": [
       "{'图片': ['大全', '发型', '唯美', '价格', '搞笑', '2016', '手机', 'qq'],\n",
       " '手机': ['下载', 'qq', '苹果', '软件', '华为', '游戏', '设置', '壁纸'],\n",
       " '小说': ['穿越', '好看', '排行榜', '耽美', '阅读', '重生', '主角', '下载'],\n",
       " '视频': ['教学', '在线', '观看', '大全', '手机', '腾讯', '搞笑', '舞蹈'],\n",
       " '下载': ['txt', '手机', '全集', '软件', '免费', '游戏', '小说', '百度'],\n",
       " 'qq': ['手机', '头像', '空间', '号', '飞车', '邮箱', '音乐', '网名'],\n",
       " '电影': ['韩国', '网', '完整版', '观看', '全集', '在线', '手机', '大全'],\n",
       " '百度': ['云', '贴吧', '资源', '下载', '百科', '分享', '云盘', '地图'],\n",
       " '英语': ['上册', '作文', '答案', '单词', '大学', '四级', '翻译', '教程'],\n",
       " '游戏': ['下载', '手机', '大全', '单机', '好玩', '名字', '橙光', '电脑']}"
      ]
     },
     "execution_count": 261,
     "metadata": {},
     "output_type": "execute_result"
    }
   ],
   "source": [
    "# 得到10个种子关键词对应中介关键词，存在midkeywords这个字典中\n",
    "midkeywords=dict(zip(seedwords_list,midkeywords_list))\n",
    "midkeywords"
   ]
  },
  {
   "cell_type": "markdown",
   "metadata": {},
   "source": [
    "### 2. 统计包含种子关键字和中介关键字的查询搜索量"
   ]
  },
  {
   "cell_type": "markdown",
   "metadata": {},
   "source": [
    "在第一步中得到的十个种子关键词文件中，筛选出种子关键词和对应的中介关键词一起出现的查询搜索，统计联合查询搜索量$|\\{sa\\}|$"
   ]
  },
  {
   "cell_type": "code",
   "execution_count": 262,
   "metadata": {},
   "outputs": [],
   "source": [
    "# 统计每个种子关键词和其中介关键词一起出现的搜索量\n",
    "def query_volume_count(seedword):\n",
    "    count_list = []\n",
    "    filename = './seedword_'+seedword\n",
    "    for midkeyword in midkeywords[seedword]:\n",
    "        count = 0\n",
    "        query_data = open(filename,'r',encoding = 'utf-8')\n",
    "        for setence in query_data:\n",
    "            if seedword in setence and midkeyword in setence:\n",
    "                count+=1\n",
    "        count_list.append(count)\n",
    "        query_data.close()\n",
    "    return count_list"
   ]
  },
  {
   "cell_type": "code",
   "execution_count": 263,
   "metadata": {
    "collapsed": true
   },
   "outputs": [
    {
     "data": {
      "text/plain": [
       "{'图片': {'大全': 32625,\n",
       "  '发型': 6634,\n",
       "  '唯美': 4310,\n",
       "  '价格': 4997,\n",
       "  '搞笑': 3691,\n",
       "  '2016': 3767,\n",
       "  '手机': 3543,\n",
       "  'qq': 3303},\n",
       " '手机': {'下载': 12284,\n",
       "  'qq': 11719,\n",
       "  '苹果': 10196,\n",
       "  '软件': 9702,\n",
       "  '华为': 5071,\n",
       "  '游戏': 8634,\n",
       "  '设置': 4203,\n",
       "  '壁纸': 4222},\n",
       " '小说': {'穿越': 8162,\n",
       "  '好看': 6064,\n",
       "  '排行榜': 5220,\n",
       "  '耽美': 5381,\n",
       "  '阅读': 6066,\n",
       "  '重生': 4897,\n",
       "  '主角': 5933,\n",
       "  '下载': 4445},\n",
       " '视频': {'教学': 5293,\n",
       "  '在线': 8292,\n",
       "  '观看': 4669,\n",
       "  '大全': 4886,\n",
       "  '手机': 4453,\n",
       "  '腾讯': 3294,\n",
       "  '搞笑': 3103,\n",
       "  '舞蹈': 3022},\n",
       " '下载': {'txt': 34647,\n",
       "  '手机': 12284,\n",
       "  '全集': 7653,\n",
       "  '软件': 4855,\n",
       "  '免费': 4820,\n",
       "  '游戏': 5013,\n",
       "  '小说': 4445,\n",
       "  '百度': 3318},\n",
       " 'qq': {'手机': 11719,\n",
       "  '头像': 10719,\n",
       "  '空间': 6761,\n",
       "  '号': 6874,\n",
       "  '飞车': 3926,\n",
       "  '邮箱': 3743,\n",
       "  '音乐': 3025,\n",
       "  '网名': 3126},\n",
       " '电影': {'韩国': 5701,\n",
       "  '网': 6198,\n",
       "  '完整版': 4238,\n",
       "  '观看': 3845,\n",
       "  '全集': 3739,\n",
       "  '在线': 4330,\n",
       "  '手机': 3604,\n",
       "  '大全': 3844},\n",
       " '百度': {'云': 41132,\n",
       "  '贴吧': 4163,\n",
       "  '资源': 6697,\n",
       "  '下载': 3318,\n",
       "  '百科': 2524,\n",
       "  '分享': 2359,\n",
       "  '云盘': 2319,\n",
       "  '地图': 2215},\n",
       " '英语': {'上册': 3575,\n",
       "  '作文': 3397,\n",
       "  '答案': 3213,\n",
       "  '单词': 3987,\n",
       "  '大学': 3498,\n",
       "  '四级': 2998,\n",
       "  '翻译': 6258,\n",
       "  '教程': 1328},\n",
       " '游戏': {'下载': 5013,\n",
       "  '手机': 8634,\n",
       "  '大全': 4457,\n",
       "  '单机': 4461,\n",
       "  '好玩': 2426,\n",
       "  '名字': 2328,\n",
       "  '橙光': 1553,\n",
       "  '电脑': 2114}}"
      ]
     },
     "execution_count": 263,
     "metadata": {},
     "output_type": "execute_result"
    }
   ],
   "source": [
    "# 统计得到的搜索量sa,存储在字典sa_query_volume中\n",
    "sa_query_volume = {}\n",
    "for seedword in seedwords_list:\n",
    "    sa_count_list=[]\n",
    "    sa_count_list = query_volume_count(seedword)\n",
    "    sa_count_dict = dict(zip(midkeywords[seedword],sa_count_list))\n",
    "    sa_query_volume[seedword]=sa_count_dict\n",
    "sa_query_volume"
   ]
  },
  {
   "cell_type": "markdown",
   "metadata": {},
   "source": [
    "### 3. 确定中介关键字的权重"
   ]
  },
  {
   "cell_type": "markdown",
   "metadata": {},
   "source": [
    "中介关键词权重的计算公式：$$w_a(k)=\\frac{|\\{sa\\}|}{|\\{s\\}|}$$  \n",
    "$|\\{s\\}|$与$|\\{sa\\}|$我们在第1、2步中得到了，其对应的搜索量分别存在了字典s_query_volume和sa_query_volume中  \n",
    "我们根据该公式，计算每个种子关键词对应的中介关键词的权重$w_a(k)$"
   ]
  },
  {
   "cell_type": "code",
   "execution_count": 264,
   "metadata": {},
   "outputs": [],
   "source": [
    "def count_midkeyword_weight():\n",
    "    midkeyword_weight={}\n",
    "    for seedword in seedwords_list:\n",
    "        s = s_query_volume[seedword]\n",
    "        weight_dict = {}\n",
    "        for midkeyword in sa_query_volume[seedword]:\n",
    "            sa = sa_query_volume[seedword][midkeyword]\n",
    "            weight = sa/s\n",
    "            weight_dict[midkeyword] = weight\n",
    "        midkeyword_weight[seedword] = weight_dict\n",
    "    return midkeyword_weight"
   ]
  },
  {
   "cell_type": "code",
   "execution_count": 265,
   "metadata": {},
   "outputs": [
    {
     "data": {
      "text/plain": [
       "{'图片': {'大全': 0.11208566952506596,\n",
       "  '发型': 0.022791611697449428,\n",
       "  '唯美': 0.014807332893579595,\n",
       "  '价格': 0.0171675736587511,\n",
       "  '搞笑': 0.012680711301671064,\n",
       "  '2016': 0.01294181508355321,\n",
       "  '手机': 0.012172246042216358,\n",
       "  'qq': 0.011347707783641161},\n",
       " '手机': {'下载': 0.06415559455168379,\n",
       "  'qq': 0.06120477145483413,\n",
       "  '苹果': 0.05325060583270661,\n",
       "  '软件': 0.05067059413386814,\n",
       "  '华为': 0.02648429013119412,\n",
       "  '游戏': 0.04509275507646027,\n",
       "  '设置': 0.021950990223113562,\n",
       "  '壁纸': 0.022050221442299657},\n",
       " '小说': {'穿越': 0.05107666506048223,\n",
       "  '好看': 0.03794767176265183,\n",
       "  '排行榜': 0.0326660367086152,\n",
       "  '耽美': 0.033673552400202755,\n",
       "  '阅读': 0.03796018748552869,\n",
       "  '重生': 0.030644747464001653,\n",
       "  '主角': 0.03712789191421723,\n",
       "  '下载': 0.027816194093830373},\n",
       " '视频': {'教学': 0.033609123292716224,\n",
       "  '在线': 0.052651964924088974,\n",
       "  '观看': 0.029646891489456272,\n",
       "  '大全': 0.031024782997961735,\n",
       "  '手机': 0.02827534971140475,\n",
       "  '腾讯': 0.020916012115285706,\n",
       "  '搞笑': 0.01970321359858274,\n",
       "  '舞蹈': 0.01918888543181342},\n",
       " '下载': {'txt': 0.25677949143623685,\n",
       "  '手机': 0.09104047313772429,\n",
       "  '全集': 0.05671871873355617,\n",
       "  '软件': 0.03598188677007908,\n",
       "  '免费': 0.03572249108790549,\n",
       "  '游戏': 0.037152872992462706,\n",
       "  '小说': 0.032943251636045626,\n",
       "  '百度': 0.024590710670056103},\n",
       " 'qq': {'手机': 0.11787011053780312,\n",
       "  '头像': 0.1078120756766543,\n",
       "  '空间': 0.06800237369622723,\n",
       "  '号': 0.06913893163553705,\n",
       "  '飞车': 0.0394878448648703,\n",
       "  '邮箱': 0.037647224485280066,\n",
       "  '音乐': 0.030425555454975207,\n",
       "  '网名': 0.031441416975951236},\n",
       " '电影': {'韩国': 0.05903122929092114,\n",
       "  '网': 0.06417743538767395,\n",
       "  '完整版': 0.043882538104705104,\n",
       "  '观看': 0.03981320410868124,\n",
       "  '全集': 0.038715622929092114,\n",
       "  '在线': 0.04483515573227303,\n",
       "  '手机': 0.03731776010603048,\n",
       "  '大全': 0.03980284956925116},\n",
       " '百度': {'云': 0.6040473463153876,\n",
       "  '贴吧': 0.06113607659999413,\n",
       "  '资源': 0.09834934061738186,\n",
       "  '下载': 0.04872676006696625,\n",
       "  '百科': 0.03706640820042882,\n",
       "  '分享': 0.034643287220606805,\n",
       "  '云盘': 0.034055863952771166,\n",
       "  '地图': 0.032528563456398506},\n",
       " '英语': {'上册': 0.055070320563180675,\n",
       "  '作文': 0.05232835774912581,\n",
       "  '答案': 0.04949396922223763,\n",
       "  '单词': 0.06141688617773464,\n",
       "  '大学': 0.05388419058181986,\n",
       "  '四级': 0.04618204784571068,\n",
       "  '翻译': 0.09640001848514257,\n",
       "  '教程': 0.020456891107105996},\n",
       " '游戏': {'下载': 0.0819814221233728,\n",
       "  '手机': 0.14119840387257146,\n",
       "  '大全': 0.07288872898541245,\n",
       "  '单机': 0.07295414404395892,\n",
       "  '好玩': 0.039674233008438545,\n",
       "  '名字': 0.038071564074049845,\n",
       "  '橙光': 0.02539739648066985,\n",
       "  '电脑': 0.034571858441813305}}"
      ]
     },
     "execution_count": 265,
     "metadata": {},
     "output_type": "execute_result"
    }
   ],
   "source": [
    "# 将中介关键词的权重结果存储在字典w_midkeyword中\n",
    "w_midkeyword = dict(count_midkeyword_weight())\n",
    "w_midkeyword"
   ]
  },
  {
   "cell_type": "markdown",
   "metadata": {},
   "source": [
    "### 4. 确定竞争性关键字集合"
   ]
  },
  {
   "cell_type": "markdown",
   "metadata": {},
   "source": [
    "竞争性关键字的确定：在含有所有查询数据的文件“link_clean_data.train”中搜索，筛选出不含有种子关键词，但有中介关键词的搜索，存储下来。然后再通过分词，词频统计，确定种子关键词对应的竞争性关键字集合。"
   ]
  },
  {
   "cell_type": "code",
   "execution_count": 270,
   "metadata": {},
   "outputs": [],
   "source": [
    "# 筛选出不含种子关键词，但含有其中介关键词的搜索数据，存储在相应的文件中\n",
    "def comkey_words_file(seedword):\n",
    "    query_data = open('./link_clean_data.train','r',encoding='utf-8')\n",
    "    filename = './comkey_'+seedword\n",
    "    result_data = open(filename,'w',encoding='utf-8')\n",
    "    for line in query_data:\n",
    "        if seedword not in line:\n",
    "            for midkeyword in midkeywords[seedword]:\n",
    "                if midkeyword in line:\n",
    "                    result_data.write(line)\n",
    "                    break\n",
    "    query_data.close()\n",
    "    result_data.close()\n",
    "    \n",
    "for seedword in seedwords_list:\n",
    "    comkey_words_file(seedword)"
   ]
  },
  {
   "cell_type": "markdown",
   "metadata": {},
   "source": [
    "对得到的文件，按照中介关键词对搜索内容分词，进行词频统计。  \n",
    "打印出词频前三的词，词频最高的词一般是中介关键词，再基于语义筛选出竞争性关键词。  \n",
    "对每个中介关键词，都可确定一个其种子关键词对应的竞争性关键字。                                                  "
   ]
  },
  {
   "cell_type": "code",
   "execution_count": 271,
   "metadata": {},
   "outputs": [],
   "source": [
    "def get_comkey_words(seedword):\n",
    "    for midkeyword in midkeywords[seedword]:\n",
    "        comkey_data = open('./comkey_'+seedword,'r',encoding='utf-8')\n",
    "        comkeyquery_list = []\n",
    "        for line in comkey_data:\n",
    "            if midkeyword in line:\n",
    "                line = line[:-1]\n",
    "                word_seg = jieba.cut(line)\n",
    "                comkeyquery_list.extend(word_seg)\n",
    "        comkeyquery_list=stop_words_filter(comkeyquery_list)\n",
    "        count_result = Counter(comkeyquery_list)\n",
    "        for key, val in count_result.most_common(3):\n",
    "            if key!=midkeyword:\n",
    "                print(key,val,end='  ')\n",
    "        comkey_data.close()"
   ]
  },
  {
   "cell_type": "code",
   "execution_count": 272,
   "metadata": {
    "collapsed": true
   },
   "outputs": [
    {
     "name": "stdout",
     "output_type": "stream",
     "text": [
      "图片:\n",
      "\n",
      "做法 12907  名字 5374  适合 3002  男生 2078  句子 1495  女生 855  价格表 8434  香烟 1775  视频 3059  大全 1593  时间 6295  最新 4896  下载 12021  qq 11194  手机 10919  头像 10427  手机:\n",
      "\n",
      "txt 34432  全集 7515  头像 10393  空间 5856  7 7775  6s 2825  下载 3805  哪个 2745  荣耀 5292  p9 2574  下载 4298  大全 3998  路由器 2824  电脑 1455  高清 1021  图片 860  小说:\n",
      "\n",
      "火线 7135  王者 1631  电影 2128  电视剧 1585  2016 3775  前十名 2852  耽 2050  美文 1935  全文 22595  免费 13154  txt 3433  末世 2227  女主角 3792  男主角 1599  txt 33049  手机 11866  视频:\n",
      "\n",
      "设计 832  教学计划 565  观看 17400  阅读 4895  在线 17304  电影 3568  图片 31527  做法 12985  下载 11673  qq 11234  游戏 1038  qq 708  图片 3586  大全 1640  教学 529  幼儿 241  下载:\n",
      "\n",
      "重生 2059  微盘 1187  qq 10909  苹果 9786  电视剧 5397  漫画 3905  手机 6621  哪个 3106  阅读 14470  全文 8616  手机游戏 4107  大全 4030  穿越 8198  好看 6087  云 35225  吧 7197  qq:\n",
      "\n",
      "下载 11313  苹果 10031  女生 4737  情侣 4085  重生 2172  个人空间 2053  查询 16375  单 11866  侠盗 2050  极品飞车 929  163 898  登陆 736  背景音乐 3270  纯音乐 1051  女生 2213  字 1967  电影:\n",
      "\n",
      "中国 876  女主播 846  官网 66592  网名 19521  视频 1011  在线 868  在线 18240  视频 4281  下载 7890  txt 6943  观看 18840  阅读 4893  下载 11737  qq 11613  图片 31519  做法 13064  百度:\n",
      "\n",
      "青云 11794  志 9324  云南 7102  吧 11417  贴 10553  学院 1096  人力资源 2717  社会 983  txt 34264  手机 11710  糗 205  事 205  视频 317  手机 164  360 1723  下载 452  中国 2742  全图 1518  英语:\n",
      "\n",
      "语文 3351  数学 2568  字 10414  600 3860  阅读 6072  上册 2348  英文单词 2133  背单词 339  大学生 9202  学院 5955  成绩 401  查询 395  英文翻译 3577  在线翻译 2212  视频教程 2921  视频 866  游戏:\n",
      "\n",
      "txt 34412  手机 11489  qq 11511  下载 11330  图片 31527  做法 13063  单机版 967  手游 474  地方 3883  哪里 1265  大全 5253  叫 2412  exo 41  攻略 24  笔记本电脑 6798  开机 3520  "
     ]
    }
   ],
   "source": [
    "for seedword in seedwords_list:\n",
    "    print(seedword+':\\n')\n",
    "    get_comkey_words(seedword)"
   ]
  },
  {
   "cell_type": "code",
   "execution_count": 283,
   "metadata": {},
   "outputs": [],
   "source": [
    "# 竞争性关键词筛选\n",
    "# 同时得到|{ka}|的值\n",
    "ka_list=[[12907,2078,1495,8434,3095,4896,12021,10427],\n",
    "         [34432,10393,7775,3805,5295,1592,2824,1021],\n",
    "         [7135,2128,2852,2050,22595,2227,3792,33049],\n",
    "         [832,17400,17304,31527,11673,1038,1640,29],\n",
    "         [2059,10909,5397,6621,14470,4107,8198,35225],\n",
    "         [11313,4737,2172,16375,2050,898,3270,1967],\n",
    "         [876,66592,1011,18240,7890,18840,11613,31519],\n",
    "         [11794,11417,2717,34264,205,317,1723,2724],\n",
    "         [3351,10414,6072,2133,9202,401,3577,2921],\n",
    "         [34412,11511,31527,967,3883,5253,41,6798]]\n",
    "\n",
    "comp_list=[['做法','男生','句子','价格表','视频','最新','下载','头像'],\n",
    "          ['txt','头像','苹果7','下载','荣耀','大全','路由器','高清'],\n",
    "          ['穿越火线','电影','前十名','耽美','全文','末世','女主角','txt'],\n",
    "          ['设计','观看','在线','图片','下载','游戏','大全','教学'],\n",
    "          ['重生','qq','电视剧','手机','阅读','手机游戏','穿越','百度云'],\n",
    "          ['下载','女生','重生','查询','侠盗','163邮箱','背景音乐','字'],\n",
    "          ['中国','官网','视频','在线','下载','观看','qq','图片'],\n",
    "          ['青云志','贴吧','人力资源','txt','糗事','视频','360云盘','中国地图'],\n",
    "          ['语文','字','阅读','英文单词','大学生','成绩','英文翻译','视频教程'],\n",
    "          ['txt','qq','图片','单机版','地方','大全','exo','笔记本电脑']]\n"
   ]
  },
  {
   "cell_type": "code",
   "execution_count": 373,
   "metadata": {},
   "outputs": [
    {
     "data": {
      "text/plain": [
       "{'图片': ['做法', '男生', '句子', '价格表', '视频', '最新', '下载', '头像'],\n",
       " '手机': ['txt', '头像', '苹果7', '下载', '荣耀', '大全', '路由器', '高清'],\n",
       " '小说': ['穿越火线', '电影', '前十名', '耽美', '全文', '末世', '女主角', 'txt'],\n",
       " '视频': ['设计', '观看', '在线', '图片', '下载', '游戏', '大全', '教学'],\n",
       " '下载': ['重生', 'qq', '电视剧', '手机', '阅读', '手机游戏', '穿越', '百度云'],\n",
       " 'qq': ['下载', '女生', '重生', '查询', '侠盗', '163邮箱', '背景音乐', '字'],\n",
       " '电影': ['中国', '官网', '视频', '在线', '下载', '观看', 'qq', '图片'],\n",
       " '百度': ['青云志', '贴吧', '人力资源', 'txt', '糗事', '视频', '360云盘', '中国地图'],\n",
       " '英语': ['语文', '字', '阅读', '英文单词', '大学生', '成绩', '英文翻译', '视频教程'],\n",
       " '游戏': ['txt', 'qq', '图片', '单机版', '地方', '大全', 'exo', '笔记本电脑']}"
      ]
     },
     "execution_count": 373,
     "metadata": {},
     "output_type": "execute_result"
    }
   ],
   "source": [
    "compkeywords=dict(zip(seedwords_list,comp_list))\n",
    "compkeywords"
   ]
  },
  {
   "cell_type": "code",
   "execution_count": 361,
   "metadata": {},
   "outputs": [
    {
     "data": {
      "text/plain": [
       "{'图片': {'大全': '做法',\n",
       "  '发型': '男生',\n",
       "  '唯美': '句子',\n",
       "  '价格': '价格表',\n",
       "  '搞笑': '视频',\n",
       "  '2016': '最新',\n",
       "  '手机': '下载',\n",
       "  'qq': '头像'},\n",
       " '手机': {'下载': 'txt',\n",
       "  'qq': '头像',\n",
       "  '苹果': '苹果7',\n",
       "  '软件': '下载',\n",
       "  '华为': '荣耀',\n",
       "  '游戏': '大全',\n",
       "  '设置': '路由器',\n",
       "  '壁纸': '高清'},\n",
       " '小说': {'穿越': '穿越火线',\n",
       "  '好看': '电影',\n",
       "  '排行榜': '前十名',\n",
       "  '耽美': '耽美',\n",
       "  '阅读': '全文',\n",
       "  '重生': '末世',\n",
       "  '主角': '女主角',\n",
       "  '下载': 'txt'},\n",
       " '视频': {'教学': '设计',\n",
       "  '在线': '观看',\n",
       "  '观看': '在线',\n",
       "  '大全': '图片',\n",
       "  '手机': '下载',\n",
       "  '腾讯': '游戏',\n",
       "  '搞笑': '大全',\n",
       "  '舞蹈': '教学'},\n",
       " '下载': {'txt': '重生',\n",
       "  '手机': 'qq',\n",
       "  '全集': '电视剧',\n",
       "  '软件': '手机',\n",
       "  '免费': '阅读',\n",
       "  '游戏': '手机游戏',\n",
       "  '小说': '穿越',\n",
       "  '百度': '百度云'},\n",
       " 'qq': {'手机': '下载',\n",
       "  '头像': '女生',\n",
       "  '空间': '重生',\n",
       "  '号': '查询',\n",
       "  '飞车': '侠盗',\n",
       "  '邮箱': '163邮箱',\n",
       "  '音乐': '背景音乐',\n",
       "  '网名': '字'},\n",
       " '电影': {'韩国': '中国',\n",
       "  '网': '官网',\n",
       "  '完整版': '视频',\n",
       "  '观看': '在线',\n",
       "  '全集': '下载',\n",
       "  '在线': '观看',\n",
       "  '手机': 'qq',\n",
       "  '大全': '图片'},\n",
       " '百度': {'云': '青云志',\n",
       "  '贴吧': '贴吧',\n",
       "  '资源': '人力资源',\n",
       "  '下载': 'txt',\n",
       "  '百科': '糗事',\n",
       "  '分享': '视频',\n",
       "  '云盘': '360云盘',\n",
       "  '地图': '中国地图'},\n",
       " '英语': {'上册': '语文',\n",
       "  '作文': '字',\n",
       "  '答案': '阅读',\n",
       "  '单词': '英文单词',\n",
       "  '大学': '大学生',\n",
       "  '四级': '成绩',\n",
       "  '翻译': '英文翻译',\n",
       "  '教程': '视频教程'},\n",
       " '游戏': {'下载': 'txt',\n",
       "  '手机': 'qq',\n",
       "  '大全': '图片',\n",
       "  '单机': '单机版',\n",
       "  '好玩': '地方',\n",
       "  '名字': '大全',\n",
       "  '橙光': 'exo',\n",
       "  '电脑': '笔记本电脑'}}"
      ]
     },
     "execution_count": 361,
     "metadata": {},
     "output_type": "execute_result"
    }
   ],
   "source": [
    "# 每个中介关键词对应的竞争性关键词\n",
    "compwords=dict.fromkeys(seedwords_list,{})\n",
    "i=0\n",
    "for list in midkeywords_list: \n",
    "    compwords[seedwords_list[i]]=dict(zip(list,comp_list[i]))\n",
    "    i+=1"
   ]
  },
  {
   "cell_type": "code",
   "execution_count": 312,
   "metadata": {
    "collapsed": true
   },
   "outputs": [
    {
     "data": {
      "text/plain": [
       "{'图片': {'大全': 12907,\n",
       "  '发型': 2078,\n",
       "  '唯美': 1495,\n",
       "  '价格': 8434,\n",
       "  '搞笑': 3095,\n",
       "  '2016': 4896,\n",
       "  '手机': 12021,\n",
       "  'qq': 10427},\n",
       " '手机': {'下载': 34432,\n",
       "  'qq': 10393,\n",
       "  '苹果': 7775,\n",
       "  '软件': 3805,\n",
       "  '华为': 5295,\n",
       "  '游戏': 1592,\n",
       "  '设置': 2824,\n",
       "  '壁纸': 1021},\n",
       " '小说': {'穿越': 7135,\n",
       "  '好看': 2128,\n",
       "  '排行榜': 2852,\n",
       "  '耽美': 2050,\n",
       "  '阅读': 22595,\n",
       "  '重生': 2227,\n",
       "  '主角': 3792,\n",
       "  '下载': 33049},\n",
       " '视频': {'教学': 832,\n",
       "  '在线': 17400,\n",
       "  '观看': 17304,\n",
       "  '大全': 31527,\n",
       "  '手机': 11673,\n",
       "  '腾讯': 1038,\n",
       "  '搞笑': 1640,\n",
       "  '舞蹈': 29},\n",
       " '下载': {'txt': 2059,\n",
       "  '手机': 10909,\n",
       "  '全集': 5397,\n",
       "  '软件': 6621,\n",
       "  '免费': 14470,\n",
       "  '游戏': 4107,\n",
       "  '小说': 8198,\n",
       "  '百度': 35225},\n",
       " 'qq': {'手机': 11313,\n",
       "  '头像': 4737,\n",
       "  '空间': 2172,\n",
       "  '号': 16375,\n",
       "  '飞车': 2050,\n",
       "  '邮箱': 898,\n",
       "  '音乐': 3270,\n",
       "  '网名': 1967},\n",
       " '电影': {'韩国': 876,\n",
       "  '网': 66592,\n",
       "  '完整版': 1011,\n",
       "  '观看': 18240,\n",
       "  '全集': 7890,\n",
       "  '在线': 18840,\n",
       "  '手机': 11613,\n",
       "  '大全': 31519},\n",
       " '百度': {'云': 11794,\n",
       "  '贴吧': 11417,\n",
       "  '资源': 2717,\n",
       "  '下载': 34264,\n",
       "  '百科': 205,\n",
       "  '分享': 317,\n",
       "  '云盘': 1723,\n",
       "  '地图': 2724},\n",
       " '英语': {'上册': 3351,\n",
       "  '作文': 10414,\n",
       "  '答案': 6072,\n",
       "  '单词': 2133,\n",
       "  '大学': 9202,\n",
       "  '四级': 401,\n",
       "  '翻译': 3577,\n",
       "  '教程': 2921},\n",
       " '游戏': {'下载': 34412,\n",
       "  '手机': 11511,\n",
       "  '大全': 31527,\n",
       "  '单机': 967,\n",
       "  '好玩': 3883,\n",
       "  '名字': 5253,\n",
       "  '橙光': 41,\n",
       "  '电脑': 6798}}"
      ]
     },
     "execution_count": 312,
     "metadata": {},
     "output_type": "execute_result"
    }
   ],
   "source": [
    "# 将|{ka}|的值存在字典ka_query_list中\n",
    "ka_query_volume=dict.fromkeys(seedwords_list,{})\n",
    "i=0\n",
    "for list in midkeywords_list: \n",
    "    ka_query_volume[seedwords_list[i]]=dict(zip(list,ka_list[i]))\n",
    "    i+=1\n",
    "ka_query_volume"
   ]
  },
  {
   "cell_type": "markdown",
   "metadata": {},
   "source": [
    "### 5. 计算竞争性关键字的竞争度"
   ]
  },
  {
   "cell_type": "markdown",
   "metadata": {},
   "source": [
    "竞争性Comp测度的计算公式为：$$Comp_s(k,s)=\\frac{|\\{ka\\}|}{(|\\{a\\}|-|\\{sa\\}|)}$$"
   ]
  },
  {
   "cell_type": "markdown",
   "metadata": {},
   "source": [
    "在第2步中，我们得到了$|\\{sa\\}|$，在第四步中得到了$|\\{ka\\}|$, 还需要计算$|\\{a\\}|$"
   ]
  },
  {
   "cell_type": "code",
   "execution_count": 267,
   "metadata": {},
   "outputs": [],
   "source": [
    "# 计算所有中介关键词的搜索量|{a}|\n",
    "def count_midkeyword(seedword):\n",
    "    count_dict=dict.fromkeys(midkeywords[seedword],0)\n",
    "    query_data = open('./link_clean_data.train','r',encoding = 'utf-8')\n",
    "    for sentence in query_data: \n",
    "        for midkeyword in midkeywords[seedword]:\n",
    "            if midkeyword in sentence:\n",
    "                count_dict[midkeyword]+=1\n",
    "    query_data.close()\n",
    "    return count_dict\n",
    "\n",
    "for seedword in seedwords_list:\n",
    "    a_query_volume[seedword]=count_midkeyword(seedword)"
   ]
  },
  {
   "cell_type": "code",
   "execution_count": 353,
   "metadata": {},
   "outputs": [],
   "source": [
    "# 计算Comp\n",
    "import copy\n",
    "def getcomp():\n",
    "    comp_query_volume = copy.deepcopy(sa_query_volume)\n",
    "    for seedword in a_query_volume:\n",
    "        for midkeyword in a_query_volume[seedword]:\n",
    "             comp_query_volume[seedword][midkeyword] = ka_query_volume[seedword][midkeyword]/(a_query_volume[seedword][midkeyword]-sa_query_volume[seedword][midkeyword])\n",
    "    return comp_query_volume  \n",
    "result_query_volume=getcomp()\n",
    "result_query_volume"
   ]
  },
  {
   "cell_type": "markdown",
   "metadata": {},
   "source": [
    "关键词k与种子关键词s的竞争性程度：$$Comp(k,s)=\\sum_{i=1}^{m}{\\{w_{a_i}(k)\\times Comp_{a_i}(k,s)\\}}$$"
   ]
  },
  {
   "cell_type": "code",
   "execution_count": 374,
   "metadata": {
    "collapsed": true
   },
   "outputs": [
    {
     "data": {
      "text/plain": [
       "{'图片': {'做法': 0.013955161590091605,\n",
       "  '男生': 0.002875590109732842,\n",
       "  '句子': 0.004113912409570989,\n",
       "  '价格表': 0.0025556670415304347,\n",
       "  '视频': 0.0031160620467385425,\n",
       "  '最新': 0.0004216478233177609,\n",
       "  '下载': 0.0006986138243731486,\n",
       "  '头像': 0.0012040801589533357},\n",
       " '手机': {'txt': 0.017798197073686906,\n",
       "  '头像': 0.007079432730825036,\n",
       "  '苹果7': 0.009009323476211379,\n",
       "  '下载': 0.004054286840066623,\n",
       "  '荣耀': 0.0060396363428516665,\n",
       "  '大全': 0.000976264616998147,\n",
       "  '路由器': 0.0027978694886293867,\n",
       "  '高清': 0.002704297428539093},\n",
       " '小说': {'穿越火线': 0.010831361980816166,\n",
       "  '电影': 0.0035587962412817024,\n",
       "  '前十名': 0.004287126073027957,\n",
       "  '耽美': 0.005750169297827209,\n",
       "  '全文': 0.01880985188788177,\n",
       "  '末世': 0.0009882396333854395,\n",
       "  '女主角': 0.01510449159303849,\n",
       "  'txt': 0.006966854854433018},\n",
       " '视频': {'设计': 0.00321522255715073,\n",
       "  '观看': 0.01875768697772667,\n",
       "  '在线': 0.023531480681324313,\n",
       "  '图片': 0.0074434830493032254,\n",
       "  '下载': 0.0015827318757881223,\n",
       "  '游戏': 0.002081773954901387,\n",
       "  '大全': 0.0024511317834844644,\n",
       "  '教学': 9.720134105198065e-05},\n",
       " '下载': {'重生': 0.016821258403080134,\n",
       "  'qq': 0.004948334984800825,\n",
       "  '电视剧': 0.007204135581770319,\n",
       "  '手机': 0.00454631640595194,\n",
       "  '阅读': 0.011170998574558966,\n",
       "  '手机游戏': 0.0019776920105249803,\n",
       "  '穿越': 0.0015536820187677378,\n",
       "  '百度云': 0.0131337131495569},\n",
       " 'qq': {'下载': 0.006625219532442164,\n",
       "  '女生': 0.014583677503078657,\n",
       "  '重生': 0.008675035573135531,\n",
       "  '查询': 0.007701124443286008,\n",
       "  '侠盗': 0.014774608865300989,\n",
       "  '163邮箱': 0.006127824467605855,\n",
       "  '背景音乐': 0.004009008596436674,\n",
       "  '字': 0.003717779813146744},\n",
       " '电影': {'中国': 0.002500186474827004,\n",
       "  '官网': 0.011844223468752208,\n",
       "  '视频': 0.004358935549602757,\n",
       "  '在线': 0.032096921235020816,\n",
       "  '下载': 0.006582615341246348,\n",
       "  '观看': 0.01599708982436649,\n",
       "  'qq': 0.002069723611470356,\n",
       "  '图片': 0.00947198912458646},\n",
       " '百度': {'青云志': 0.07416260920085863,\n",
       "  '贴吧': 0.06296144565597447,\n",
       "  '人力资源': 0.023117497920012674,\n",
       "  'txt': 0.01254563951709146,\n",
       "  '糗事': 0.0037747708301479922,\n",
       "  '视频': 0.004218948155563717,\n",
       "  '360云盘': 0.021024096592842965,\n",
       "  '中国地图': 0.004418680838539348},\n",
       " '英语': {'语文': 0.018246059344197988,\n",
       "  '字': 0.014916174456653972,\n",
       "  '阅读': 0.012619247579988533,\n",
       "  '英文单词': 0.02661024136037132,\n",
       "  '大学生': 0.0037935987279285903,\n",
       "  '成绩': 0.006790979532867613,\n",
       "  '英文翻译': 0.011098972129565952,\n",
       "  '视频教程': 0.0036355913192903755},\n",
       " '游戏': {'txt': 0.021472349949457736,\n",
       "  'qq': 0.007953448036647664,\n",
       "  '图片': 0.017430598541533723,\n",
       "  '单机版': 0.024102035288865144,\n",
       "  '地方': 0.013228151019385787,\n",
       "  '大全': 0.005983064862112842,\n",
       "  'exo': 0.003732233891424602,\n",
       "  '笔记本电脑': 0.0038040123933742328}}"
      ]
     },
     "execution_count": 374,
     "metadata": {},
     "output_type": "execute_result"
    }
   ],
   "source": [
    "def comp_result():\n",
    "    result={}\n",
    "    for seedword in result_query_volume:\n",
    "        result.setdefault(seedword,{})\n",
    "        i=0\n",
    "        for midkeyword in result_query_volume[seedword]:\n",
    "            result[seedword][compkeywords[seedword][i]]=w_midkeyword[seedword][midkeyword]*result_query_volume[seedword][midkeyword]\n",
    "            i+=1\n",
    "    return result\n",
    "comp_k_s=comp_result()\n",
    "#关键词k与种子关键词s的竞争性程度\n",
    "comp_k_s"
   ]
  },
  {
   "cell_type": "markdown",
   "metadata": {},
   "source": [
    "### 6. 竞争性关键字排序输出"
   ]
  },
  {
   "cell_type": "code",
   "execution_count": 385,
   "metadata": {},
   "outputs": [],
   "source": [
    "import pandas as pd\n",
    "def comp_print(seedword):\n",
    "    resultpd= pd.DataFrame.from_dict(comp_k_s[seedword],orient='index',columns=['竞争度'])\n",
    "    print(resultpd.sort_values(by='竞争度',ascending=False))"
   ]
  },
  {
   "cell_type": "markdown",
   "metadata": {},
   "source": [
    "##### 图片的竞争性关键字"
   ]
  },
  {
   "cell_type": "code",
   "execution_count": 386,
   "metadata": {},
   "outputs": [
    {
     "name": "stdout",
     "output_type": "stream",
     "text": [
      "          竞争度\n",
      "做法   0.013955\n",
      "句子   0.004114\n",
      "视频   0.003116\n",
      "男生   0.002876\n",
      "价格表  0.002556\n",
      "头像   0.001204\n",
      "下载   0.000699\n",
      "最新   0.000422\n"
     ]
    }
   ],
   "source": [
    "comp_print('图片')"
   ]
  },
  {
   "cell_type": "markdown",
   "metadata": {},
   "source": [
    "##### 手机的竞争性关键字"
   ]
  },
  {
   "cell_type": "code",
   "execution_count": 387,
   "metadata": {},
   "outputs": [
    {
     "name": "stdout",
     "output_type": "stream",
     "text": [
      "          竞争度\n",
      "txt  0.017798\n",
      "苹果7  0.009009\n",
      "头像   0.007079\n",
      "荣耀   0.006040\n",
      "下载   0.004054\n",
      "路由器  0.002798\n",
      "高清   0.002704\n",
      "大全   0.000976\n"
     ]
    }
   ],
   "source": [
    "comp_print('手机')"
   ]
  },
  {
   "cell_type": "markdown",
   "metadata": {},
   "source": [
    "##### 小说的竞争性关键字"
   ]
  },
  {
   "cell_type": "code",
   "execution_count": 388,
   "metadata": {},
   "outputs": [
    {
     "name": "stdout",
     "output_type": "stream",
     "text": [
      "           竞争度\n",
      "全文    0.018810\n",
      "女主角   0.015104\n",
      "穿越火线  0.010831\n",
      "txt   0.006967\n",
      "耽美    0.005750\n",
      "前十名   0.004287\n",
      "电影    0.003559\n",
      "末世    0.000988\n"
     ]
    }
   ],
   "source": [
    "comp_print('小说')"
   ]
  },
  {
   "cell_type": "markdown",
   "metadata": {},
   "source": [
    "##### 视频的竞争性关键字"
   ]
  },
  {
   "cell_type": "code",
   "execution_count": 389,
   "metadata": {},
   "outputs": [
    {
     "name": "stdout",
     "output_type": "stream",
     "text": [
      "         竞争度\n",
      "在线  0.023531\n",
      "观看  0.018758\n",
      "图片  0.007443\n",
      "设计  0.003215\n",
      "大全  0.002451\n",
      "游戏  0.002082\n",
      "下载  0.001583\n",
      "教学  0.000097\n"
     ]
    }
   ],
   "source": [
    "comp_print('视频')"
   ]
  },
  {
   "cell_type": "markdown",
   "metadata": {},
   "source": [
    "##### 下载的竞争性关键字"
   ]
  },
  {
   "cell_type": "code",
   "execution_count": 390,
   "metadata": {},
   "outputs": [
    {
     "name": "stdout",
     "output_type": "stream",
     "text": [
      "           竞争度\n",
      "重生    0.016821\n",
      "百度云   0.013134\n",
      "阅读    0.011171\n",
      "电视剧   0.007204\n",
      "qq    0.004948\n",
      "手机    0.004546\n",
      "手机游戏  0.001978\n",
      "穿越    0.001554\n"
     ]
    }
   ],
   "source": [
    "comp_print('下载')"
   ]
  },
  {
   "cell_type": "markdown",
   "metadata": {},
   "source": [
    "##### qq的竞争性关键字"
   ]
  },
  {
   "cell_type": "code",
   "execution_count": 391,
   "metadata": {},
   "outputs": [
    {
     "name": "stdout",
     "output_type": "stream",
     "text": [
      "            竞争度\n",
      "侠盗     0.014775\n",
      "女生     0.014584\n",
      "重生     0.008675\n",
      "查询     0.007701\n",
      "下载     0.006625\n",
      "163邮箱  0.006128\n",
      "背景音乐   0.004009\n",
      "字      0.003718\n"
     ]
    }
   ],
   "source": [
    "comp_print('qq')"
   ]
  },
  {
   "cell_type": "markdown",
   "metadata": {},
   "source": [
    "##### 电影的竞争性关键字"
   ]
  },
  {
   "cell_type": "code",
   "execution_count": 392,
   "metadata": {},
   "outputs": [
    {
     "name": "stdout",
     "output_type": "stream",
     "text": [
      "         竞争度\n",
      "在线  0.032097\n",
      "观看  0.015997\n",
      "官网  0.011844\n",
      "图片  0.009472\n",
      "下载  0.006583\n",
      "视频  0.004359\n",
      "中国  0.002500\n",
      "qq  0.002070\n"
     ]
    }
   ],
   "source": [
    "comp_print('电影')"
   ]
  },
  {
   "cell_type": "markdown",
   "metadata": {},
   "source": [
    "##### 百度竞争性关键字"
   ]
  },
  {
   "cell_type": "code",
   "execution_count": 393,
   "metadata": {},
   "outputs": [
    {
     "name": "stdout",
     "output_type": "stream",
     "text": [
      "            竞争度\n",
      "青云志    0.074163\n",
      "贴吧     0.062961\n",
      "人力资源   0.023117\n",
      "360云盘  0.021024\n",
      "txt    0.012546\n",
      "中国地图   0.004419\n",
      "视频     0.004219\n",
      "糗事     0.003775\n"
     ]
    }
   ],
   "source": [
    "comp_print('百度')"
   ]
  },
  {
   "cell_type": "markdown",
   "metadata": {},
   "source": [
    "##### 英语的竞争性关键字"
   ]
  },
  {
   "cell_type": "code",
   "execution_count": 394,
   "metadata": {},
   "outputs": [
    {
     "name": "stdout",
     "output_type": "stream",
     "text": [
      "           竞争度\n",
      "英文单词  0.026610\n",
      "语文    0.018246\n",
      "字     0.014916\n",
      "阅读    0.012619\n",
      "英文翻译  0.011099\n",
      "成绩    0.006791\n",
      "大学生   0.003794\n",
      "视频教程  0.003636\n"
     ]
    }
   ],
   "source": [
    "comp_print('英语')"
   ]
  },
  {
   "cell_type": "markdown",
   "metadata": {},
   "source": [
    "##### 游戏的竞争性关键字"
   ]
  },
  {
   "cell_type": "code",
   "execution_count": 395,
   "metadata": {},
   "outputs": [
    {
     "name": "stdout",
     "output_type": "stream",
     "text": [
      "            竞争度\n",
      "单机版    0.024102\n",
      "txt    0.021472\n",
      "图片     0.017431\n",
      "地方     0.013228\n",
      "qq     0.007953\n",
      "大全     0.005983\n",
      "笔记本电脑  0.003804\n",
      "exo    0.003732\n"
     ]
    }
   ],
   "source": [
    "comp_print('游戏')"
   ]
  },
  {
   "cell_type": "code",
   "execution_count": null,
   "metadata": {},
   "outputs": [],
   "source": []
  }
 ],
 "metadata": {
  "kernelspec": {
   "display_name": "Python 3",
   "language": "python",
   "name": "python3"
  },
  "language_info": {
   "codemirror_mode": {
    "name": "ipython",
    "version": 3
   },
   "file_extension": ".py",
   "mimetype": "text/x-python",
   "name": "python",
   "nbconvert_exporter": "python",
   "pygments_lexer": "ipython3",
   "version": "3.7.4"
  }
 },
 "nbformat": 4,
 "nbformat_minor": 4
}

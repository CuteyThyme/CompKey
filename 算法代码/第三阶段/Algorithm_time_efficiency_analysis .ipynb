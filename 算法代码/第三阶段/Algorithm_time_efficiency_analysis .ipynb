{
 "cells": [
  {
   "cell_type": "markdown",
   "metadata": {},
   "source": [
    "## 算法效率分析"
   ]
  },
  {
   "cell_type": "markdown",
   "metadata": {},
   "source": [
    "引入Python中的time模块，计算算法的运行时间"
   ]
  },
  {
   "cell_type": "code",
   "execution_count": 1,
   "metadata": {},
   "outputs": [],
   "source": [
    "import time\n",
    "import matplotlib.pyplot as plt\n",
    "import jieba\n",
    "from collections import Counter\n",
    "plt.rcParams['font.sans-serif'] = ['SimHei'] \n",
    "plt.rcParams['font.family'] ='sans-serif'\n",
    "plt.rcParams['axes.unicode_minus'] = False "
   ]
  },
  {
   "cell_type": "markdown",
   "metadata": {},
   "source": [
    "### 分词与词频统计的算法运行时间分析"
   ]
  },
  {
   "cell_type": "code",
   "execution_count": 2,
   "metadata": {},
   "outputs": [],
   "source": [
    "#种子关键词\n",
    "seedwords_list=['图片','手机','小说','视频','下载','qq','电影','百度','英语','游戏']\n",
    "\n",
    "#停用词过滤\n",
    "stop_word_list=set([' ','的','怎么','我','都','与','你','多少','年','月','什么','及',\n",
    "                    '和','上','如何','是','吗','有','在','可以','什么','用','了','说',\n",
    "                    '大','很','版','之','为什么','怎么办','能','玩','级','写',','])\n",
    "def stop_words_filter(word_list):\n",
    "    word_cleaned = []\n",
    "    for word in word_list:\n",
    "        if word not in stop_word_list:\n",
    "            word_cleaned.append(word)\n",
    "    return word_cleaned\n",
    "\n",
    "def getwordlist(seedword):\n",
    "    wordlist = [];\n",
    "    segmentation_file = './seedword_segmentation_'+seedword\n",
    "    seedwords_data = open(segmentation_file,'r',encoding='utf-8')\n",
    "    for line in seedwords_data:\n",
    "        line = line[:-1]\n",
    "        words = line.split('\\t')\n",
    "        wordlist.extend(words)\n",
    "    seedwords_data.close()\n",
    "    return wordlist\n",
    "\n",
    "# 统计与种子关键词一起出现的词的词频\n",
    "# 在词频前12中剔除词频最高的种子关键词，先放入候选中介关键词集合中 \n",
    "def word_frequency_count(seedword):\n",
    "    word_list = getwordlist(seedword)\n",
    "    word_list = stop_words_filter(word_list)\n",
    "    count_result = Counter(word_list)\n",
    "    midkeywords=[]\n",
    "    flag = False\n",
    "    for key, val in count_result.most_common(12):\n",
    "        #词频最高的一定是种子关键词，不放入midkeywords中\n",
    "        if flag==True:\n",
    "            midkeywords.append(key)\n",
    "        flag=True\n",
    "    return midkeywords"
   ]
  },
  {
   "cell_type": "code",
   "execution_count": 3,
   "metadata": {},
   "outputs": [],
   "source": [
    "# 得到种子关键词的候选中介关键词集合\n",
    "midkeywords_list = []\n",
    "timelist = []  #存储运行时间\n",
    "for seedword in seedwords_list:\n",
    "    starttime = time.time()\n",
    "    midkeywords_list.append(word_frequency_count(seedword))\n",
    "    endtime = time.time()\n",
    "    timelist.append(endtime-starttime)\n",
    "for i in range(0,10):\n",
    "    timelist[i]*=10\n"
   ]
  },
  {
   "cell_type": "code",
   "execution_count": 10,
   "metadata": {},
   "outputs": [
    {
     "data": {
      "text/plain": [
       "[2.6540613174438477,\n",
       " 3.1540298461914062,\n",
       " 3.3429431915283203,\n",
       " 4.088737964630127,\n",
       " 4.228994846343994,\n",
       " 5.552651882171631,\n",
       " 6.6893815994262695,\n",
       " 6.755580902099609,\n",
       " 9.276204109191895,\n",
       " 10.79347848892212]"
      ]
     },
     "execution_count": 10,
     "metadata": {},
     "output_type": "execute_result"
    }
   ],
   "source": [
    "timelist"
   ]
  },
  {
   "cell_type": "markdown",
   "metadata": {},
   "source": [
    "#### 计算不同的数据规模（搜索条目数量）"
   ]
  },
  {
   "cell_type": "code",
   "execution_count": 24,
   "metadata": {},
   "outputs": [
    {
     "data": {
      "text/plain": [
       "[300855, 213004, 178271, 166728, 136402, 102135, 110250, 69295, 78524, 82167]"
      ]
     },
     "execution_count": 24,
     "metadata": {},
     "output_type": "execute_result"
    }
   ],
   "source": [
    "querysize = []\n",
    "def getwordsize(seedword):\n",
    "    segmentation_file = './seedword_segmentation_'+seedword\n",
    "    seedwords_data = open(segmentation_file,'r',encoding='utf-8')\n",
    "    i = 0\n",
    "    for line in seedwords_data:\n",
    "        i+=1\n",
    "    return i\n",
    "for seedword in seedwords_list:\n",
    "    querysize.append(getwordsize(seedword))\n",
    "querysize"
   ]
  },
  {
   "cell_type": "code",
   "execution_count": 25,
   "metadata": {},
   "outputs": [],
   "source": [
    "for i in range(0,10):\n",
    "    querysize[i]/=10000"
   ]
  },
  {
   "cell_type": "code",
   "execution_count": 53,
   "metadata": {},
   "outputs": [
    {
     "data": {
      "image/png": "[encoded data removed]",
      "text/plain": [
       "<Figure size 432x288 with 1 Axes>"
      ]
     },
     "metadata": {
      "needs_background": "light"
     },
     "output_type": "display_data"
    }
   ],
   "source": [
    "querysize.sort()\n",
    "timelist.sort()\n",
    "plt.plot(querysize,timelist)\n",
    "plt.title('分词词频统计算法运行时间')\n",
    "plt.xlabel('搜索条目数量(百万)')\n",
    "plt.ylabel('运行时间(s)')\n",
    "plt.xlim(6,30)\n",
    "plt.savefig('分词效率.png')\n",
    "plt.show()"
   ]
  },
  {
   "cell_type": "markdown",
   "metadata": {},
   "source": [
    "## CompKey算法运行时间分析"
   ]
  },
  {
   "cell_type": "markdown",
   "metadata": {},
   "source": [
    "**在第二阶段的代码中，统计$CompKey$算法中竞争性测度（公式中${|ka|}$,${|sa|}$,${|a|}$的计算）需要的时间和整个算法的时间，发现$CompKey$竞争性测度部分运行所需的时间占据了第二阶段代码运行大部分的时间**"
   ]
  },
  {
   "cell_type": "markdown",
   "metadata": {},
   "source": [
    "在数据预处理的前提下，第二阶段CompKey算法所需要的全部时间及各部分时间如下：  \n",
    "算法全部运行时间: 512s   \n",
    "$ComKey$算法中${|ka|}$计算时间:  262.75s  \n",
    "$ComKey$算法中${|a|}$计算时间: 25.55s  \n",
    "$ComKey$算法中${|sa|}$计算时间: 106.93s  \n",
    "其他部分所需时间: 116.77s"
   ]
  },
  {
   "cell_type": "code",
   "execution_count": 51,
   "metadata": {},
   "outputs": [],
   "source": [
    "label = ['{|ka|}时间','{|a|}时间','{|sa|}时间','其他部分时间']\n",
    "algorithm_time = [262.75,25.55,106.93,116.77]\n",
    "explode=[0.01,0.01,0.01,0.01]\n",
    "colors = ['#fdb0c0','#c79fef','#75bbfd','#fdde6c']"
   ]
  },
  {
   "cell_type": "code",
   "execution_count": 52,
   "metadata": {},
   "outputs": [
    {
     "data": {
      "image/png": "[encoded data removed]",
      "text/plain": [
       "<Figure size 576x576 with 1 Axes>"
      ]
     },
     "metadata": {},
     "output_type": "display_data"
    }
   ],
   "source": [
    "plt.figure(figsize=(8,8))\n",
    "plt.pie(algorithm_time,explode=explode,labels = label,colors=colors,autopct='%.2f%%',textprops={'fontsize': 12, 'color': 'w'})\n",
    "plt.title('ComKey算法中{|ka|},{|sa|},{|a|}的计算所需时间比例统计')\n",
    "plt.legend(loc='upper right')\n",
    "plt.savefig('pie.png')\n",
    "plt.show()"
   ]
  },
  {
   "cell_type": "code",
   "execution_count": null,
   "metadata": {},
   "outputs": [],
   "source": []
  }
 ],
 "metadata": {
  "kernelspec": {
   "display_name": "Python 3",
   "language": "python",
   "name": "python3"
  },
  "language_info": {
   "codemirror_mode": {
    "name": "ipython",
    "version": 3
   },
   "file_extension": ".py",
   "mimetype": "text/x-python",
   "name": "python",
   "nbconvert_exporter": "python",
   "pygments_lexer": "ipython3",
   "version": "3.7.4"
  }
 },
 "nbformat": 4,
 "nbformat_minor": 4
}
